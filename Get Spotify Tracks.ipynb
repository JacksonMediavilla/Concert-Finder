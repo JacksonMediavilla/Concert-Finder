{
 "cells": [
  {
   "cell_type": "code",
   "execution_count": 18,
   "id": "ea128cad-6898-49d4-8c48-9bee5da339c7",
   "metadata": {},
   "outputs": [
    {
     "name": "stdout",
     "output_type": "stream",
     "text": [
      "Done.\n"
     ]
    }
   ],
   "source": [
    "import spotipy\n",
    "from spotipy.oauth2 import SpotifyOAuth\n",
    "import json\n",
    "\n",
    "# This python script pulls data from my \"Electronic\" playlist & my Liked Songs on Spotify and saves the data to a file.\n",
    "# These two \"playlists\" are where I save most of my music. \n",
    "# This is a helper script for my \"Concert Finder\" project\n",
    "\n",
    "# load app config\n",
    "with open('app_config.json', 'r') as file:\n",
    "    app_config = json.load(file)\n",
    "\n",
    "# Set up authentication\n",
    "sp = spotipy.Spotify(auth_manager=SpotifyOAuth(\n",
    "    client_id=app_config['client_id'],\n",
    "    client_secret=app_config['client_secret'],\n",
    "    redirect_uri=app_config['redirect_uri'],\n",
    "    scope=app_config['scope']\n",
    "))\n",
    "\n",
    "# Electronic playlist\n",
    "electronic_playlist_id = app_config['electronic_playlist_id']\n",
    "\n",
    "# Specify specific fields to return to reduce response size from Spotify\n",
    "fields = 'items.track.id,items.track.name,items.track.artists.name,next'\n",
    "\n",
    "tracks = []\n",
    "\n",
    "# Fetch tracks from the playlist\n",
    "results = sp.playlist_tracks(electronic_playlist_id, fields=fields)\n",
    "tracks += results['items']\n",
    "while results['next']:\n",
    "    results = sp.next(results)\n",
    "    tracks += results['items']\n",
    "\n",
    "# Fetch liked songs\n",
    "results = sp.current_user_saved_tracks(limit=50)\n",
    "tracks += results['items']\n",
    "while results['next']:\n",
    "    results = sp.next(results)\n",
    "    tracks += results['items']\n",
    "\n",
    "with open(\"tracks.json\", \"w\") as file:\n",
    "    json.dump(tracks, file)\n",
    "\n",
    "print('Done.')"
   ]
  },
  {
   "cell_type": "code",
   "execution_count": null,
   "id": "885a0370-8d0b-4381-881a-624d1f0ca0a5",
   "metadata": {},
   "outputs": [],
   "source": []
  }
 ],
 "metadata": {
  "kernelspec": {
   "display_name": "Python [conda env:base] *",
   "language": "python",
   "name": "conda-base-py"
  },
  "language_info": {
   "codemirror_mode": {
    "name": "ipython",
    "version": 3
   },
   "file_extension": ".py",
   "mimetype": "text/x-python",
   "name": "python",
   "nbconvert_exporter": "python",
   "pygments_lexer": "ipython3",
   "version": "3.12.7"
  }
 },
 "nbformat": 4,
 "nbformat_minor": 5
}
